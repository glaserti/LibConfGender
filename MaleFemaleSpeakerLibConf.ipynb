{
 "metadata": {
  "name": "MaleFemaleSpeakerLibConf"
 }, 
 "nbformat": 2, 
 "worksheets": [
  {
   "cells": [
    {
     "cell_type": "markdown", 
     "source": [
      "# Get Number of Female & Male Speakers on German Library Conferences"
     ]
    }, 
    {
     "cell_type": "markdown", 
     "source": [
      "With this notebook, the number of female and male speakers on German Library Conferences is calculated.", 
      "", 
      "First, a list of popular German names for women and men is harvested (to be able to classify the speakers names).", 
      "Then, the conference speakers' first names for each year are harvested and classified.", 
      "Due to some rare/non-German names, a number of unclassified names has to be classified manually.", 
      "Finally, the summary for each year is printed.", 
      "", 
      "1. Get list of popular German names for women and men: from website http://www.beliebte-vornamen.de/", 
      "1. Get speakers' names for the conferences 2009 - 2014: from website http://www.bib-info.de/verband/publikationen/opus/", 
      "1. Classify speakers' names", 
      "1. Calculating the numbers for each year", 
      "1. Summary"
     ]
    }, 
    {
     "cell_type": "code", 
     "collapsed": true, 
     "input": [
      "# 0. ", 
      "import bs4", 
      "from bs4 import BeautifulSoup", 
      "# on use cf. http://www.crummy.com/software/BeautifulSoup/", 
      "", 
      "import urllib2", 
      "# on use cf. http://www.pythonforbeginners.com/python-on-the-web/how-to-use-urllib2-in-python/", 
      "", 
      "import json", 
      "", 
      "", 
      "#retrieve the html-code as Soup", 
      "def getHTMLsoup(url):", 
      "    HTMLsoup = urllib2.urlopen(url)", 
      "    HTMLsoup = BeautifulSoup(HTMLsoup.read()) ", 
      "    return HTMLsoup"
     ], 
     "language": "python", 
     "outputs": [], 
     "prompt_number": 1
    }, 
    {
     "cell_type": "markdown", 
     "source": [
      "## 1. Get list of popular German names for women and men"
     ]
    }, 
    {
     "cell_type": "markdown", 
     "source": [
      "### Function definitions"
     ]
    }, 
    {
     "cell_type": "code", 
     "collapsed": true, 
     "input": [
      "# retrieve the list of female and male names", 
      "def nameSoup(url):", 
      "    tag_td_women = getHTMLsoup(url).td                        # get column with women's names", 
      "    tag_td_men = tag_td_women.find_next_sibling('td')    # get next column (with men's names)", 
      "    return tag_td_women, tag_td_men", 
      "", 
      "# make a list of the names from the website \"http://www.beliebte-vornamen.de/3774-1970er-jahre.htm/\" etc.", 
      "def makeList(souplist):", 
      "    pureText = souplist.get_text(\"/\", strip=True)  # separate elements with \"/\" and strip off whitespace", 
      "    pureList = pureText.split(\"/\")                 # split into a list", 
      "    finalList = []", 
      "    for e in pureList:", 
      "        e = e.strip()                              # strip off whitespaces", 
      "        if len(e) > 1:                             # in case there's an empty element, add only names with more ", 
      "            finalList.append(e)                    # than 1 character to new list", 
      "    return finalList", 
      "", 
      "#wrap up function", 
      "def wrapNameSoup(url):", 
      "    #urlSoup = getHTMLsoup(url)", 
      "    souplist = nameSoup(url)", 
      "    femaleNameList = makeList(souplist[0])", 
      "    maleNameList = makeList(souplist[1])", 
      "    return femaleNameList, maleNameList", 
      "", 
      "# merging two lists", 
      "def removeDuplicates(nameList_0, nameList_1):", 
      "    for name in nameList_1:", 
      "        if name not in nameList_0:", 
      "            nameList_0.append(name)", 
      "    nameList_0.sort()                              # sort list alphabetically", 
      "    return nameList_0"
     ], 
     "language": "python", 
     "outputs": [], 
     "prompt_number": 2
    }, 
    {
     "cell_type": "markdown", 
     "source": [
      "### Function calls"
     ]
    }, 
    {
     "cell_type": "code", 
     "collapsed": true, 
     "input": [
      "#start with the 70's", 
      "#nameLists[0] = female, nameList[1] = male names", 
      "nameLists_70s = wrapNameSoup('http://www.beliebte-vornamen.de/3774-1970er-jahre.htm/')", 
      "", 
      "#get list of the 50's", 
      "nameLists_50s = wrapNameSoup('http://www.beliebte-vornamen.de/3770-1950er-jahre.htm')", 
      "", 
      "#get list of the 90's", 
      "nameLists_90s = wrapNameSoup('http://www.beliebte-vornamen.de/3778-1990er-jahre.htm')", 
      "", 
      "#get list of the 2000's", 
      "nameLists_00s = wrapNameSoup('http://www.beliebte-vornamen.de/3780-2000er-jahre.htm')", 
      "", 
      "#get list of the 20's", 
      "nameLists_20s = wrapNameSoup('http://www.beliebte-vornamen.de/3764-1920er-jahre.htm')"
     ], 
     "language": "python", 
     "outputs": [], 
     "prompt_number": 3
    }, 
    {
     "cell_type": "code", 
     "collapsed": true, 
     "input": [
      "# merge lists and remove duplicates", 
      "# 1", 
      "femaleNameList = removeDuplicates(nameLists_70s[0], nameLists_50s[0])", 
      "maleNameList = removeDuplicates(nameLists_70s[1], nameLists_50s[1])", 
      "", 
      "# 2", 
      "femaleNameList = removeDuplicates(femaleNameList, nameLists_90s[0])", 
      "maleNameList = removeDuplicates(maleNameList, nameLists_90s[1])", 
      "", 
      "# 3", 
      "femaleNameList = removeDuplicates(femaleNameList, nameLists_00s[0])", 
      "maleNameList = removeDuplicates(maleNameList, nameLists_00s[1])", 
      "", 
      "# 4", 
      "femaleNameList = removeDuplicates(femaleNameList, nameLists_20s[0])", 
      "maleNameList = removeDuplicates(maleNameList, nameLists_20s[1])"
     ], 
     "language": "python", 
     "outputs": [], 
     "prompt_number": 4
    }, 
    {
     "cell_type": "code", 
     "collapsed": true, 
     "input": [
      "# store in lists in a dictionary", 
      "dicNames = {'men': maleNameList, 'women': femaleNameList}", 
      "", 
      "#save dictionary as a json-file", 
      "with open('germanNames.json', 'wb') as outfile:", 
      "    json.dump(dicNames, outfile)"
     ], 
     "language": "python", 
     "outputs": [], 
     "prompt_number": 5
    }, 
    {
     "cell_type": "markdown", 
     "source": [
      "## 2. Getting speakers' names"
     ]
    }, 
    {
     "cell_type": "code", 
     "collapsed": true, 
     "input": [
      "# functions for retrieving speakers' names from German Library Conferences", 
      "# 'http://www.bib-info.de/verband/publikationen/opus/bremen-2014/referenten-a-z.html' etc.", 
      "", 
      "def cleaningList(confSoup):", 
      "    #get all <li> tags under the <ul> tag in <div id=\"inhalt\">", 
      "    nameSoup = confSoup.find(id='inhalt').find_all('li')", 
      "    ", 
      "    # create list of dictionaries with speakers first names and info, if they had co-speakers", 
      "    listOfSpeakers = []", 
      "    for e in nameSoup:", 
      "        dictOfSpeakers = {}", 
      "        try:", 
      "            e.a.decompose()", 
      "            text = e.get_text(\":\", strip=True)", 
      "            ", 
      "            #", 
      "            #", 
      "            if \",\" not in text:", 
      "                dictOfSpeakers['name']= text[text.find(' ')+1:]", 
      "            else:", 
      "                i1 = text.find(',')+1               # find the first comma (separating second and first name)", 
      "                dictOfSpeakers['name'] = text[i1:].strip()", 
      "            #", 
      "            #", 
      "            ", 
      "            ", 
      "            if 'Dr.' in dictOfSpeakers['name'][:4]:       # in some cases, \":Dr.: is between second and first name", 
      "                i2 = dictOfSpeakers['name'].find(\":\", 2)  # this if code deletes the :Dr.:", 
      "                dictOfSpeakers['name'] = dictOfSpeakers['name'][i2:].strip(\":\")", 
      "            else:", 
      "                pass", 
      "            if \"al.\" not in text:    # identify co-speakers (who are indicated by et al., et. al., or et.al.)", 
      "                dictOfSpeakers['solo'] = 1", 
      "            else:", 
      "                dictOfSpeakers['solo'] = 0", 
      "                #i2=dictOfSpeakers['name'].find(\":\")             # strip off everything behind first \":\"", 
      "                #dictOfSpeakers['name'] = dictOfSpeakers['name'][:i2]", 
      "            ", 
      "            i2=dictOfSpeakers['name'].find(\":\")", 
      "            if i2 != -1:", 
      "                dictOfSpeakers['name'] = dictOfSpeakers['name'][:i2]", 
      "            else:", 
      "                dictOfSpeakers['name'] = dictOfSpeakers['name'].rstrip(\":\") # strip off trailing \":\" to keep just first name(s)", 
      "", 
      "            ", 
      "            listOfSpeakers.append(dictOfSpeakers)", 
      "        except AttributeError:        # in case there are invalid <li> tags (there are :o)", 
      "            pass", 
      "    cleanList = cleaningNames(listOfSpeakers)", 
      "    return cleanList", 
      "", 
      "def cleaningNames(LoD):", 
      "    for e in LoD:", 
      "        #print e['name']", 
      "        index1 = e['name'].find(\" \")          # keeping only the first of multiple first names (e.g. \"Jan Ulrich\" > \"Jan\")", 
      "        if index1 != -1:", 
      "            e['name'] = e['name'][:index1]", 
      "        index2 = e['name'].find(\"-\")          # keeping only the first of multiple first names (e.g. \"Jan-Ulrich\" > \"Jan\")", 
      "        if index2 != -1:", 
      "            e['name'] = e['name'][:index2]", 
      "        e['name'] = e['name'].strip(';,')", 
      "        #print e['name']", 
      "    return LoD", 
      "", 
      "# wrap up function", 
      "def getSpeakers(listOfConferenceURLs):", 
      "    LoD = []", 
      "    for url in listOfConferenceURLs:", 
      "        year_index0 = url.rfind('/')", 
      "        confDate = int(url[(year_index0 - 4):year_index0])", 
      "        ", 
      "        confSoup = getHTMLsoup(url)", 
      "        cleanlist = cleaningList(confSoup)", 
      "        ", 
      "        for speaker in cleanlist:", 
      "            speaker['year'] = confDate", 
      "            LoD.append(speaker)", 
      "            ", 
      "    return LoD", 
      "        # get names for that year", 
      "        # write year in dictionary"
     ], 
     "language": "python", 
     "outputs": [], 
     "prompt_number": 6
    }, 
    {
     "cell_type": "markdown", 
     "source": [
      "### Function calls"
     ]
    }, 
    {
     "cell_type": "code", 
     "collapsed": true, 
     "input": [
      "#pre 2009, the structure of the websites were different ", 
      "#(not organized with <li>, just <p>s, or no presenter sorted list))", 
      "", 
      "listOfConferenceURLs = [", 
      "'http://www.bib-info.de/verband/publikationen/opus/erfurt-2009/referenten-a-z.html',", 
      "'http://www.bib-info.de/verband/publikationen/opus/leipzig-2010/referenten-a-z.html',", 
      "'http://www.bib-info.de/verband/publikationen/opus/berlin-2011/referenten-a-z.html',", 
      "'http://www.bib-info.de/verband/publikationen/opus/hamburg-2012/referenten-a-z.html',", 
      "'http://www.bib-info.de/verband/publikationen/opus/leipzig-2013/referenten-a-z.html', ", 
      "'http://www.bib-info.de/verband/publikationen/opus/bremen-2014/referenten-a-z.html']"
     ], 
     "language": "python", 
     "outputs": [], 
     "prompt_number": 7
    }, 
    {
     "cell_type": "code", 
     "collapsed": false, 
     "input": [
      "# get all the names of the speakers of the conferences 2009 - 2014 (who published their presentations!)", 
      "speakerNames = getSpeakers(listOfConferenceURLs)", 
      "", 
      "#save dictionary as a json-file", 
      "with open('speakerNames.json', 'wb') as outfile:", 
      "    json.dump(speakerNames, outfile)", 
      "", 
      "print", 
      "print \"In total, \" + str(len(speakerNames)) + \" speakers' names were recorded.\""
     ], 
     "language": "python", 
     "outputs": [
      {
       "output_type": "stream", 
       "stream": "stdout", 
       "text": [
        "", 
        "In total, 1153 speakers' names were recorded."
       ]
      }
     ], 
     "prompt_number": 8
    }, 
    {
     "cell_type": "markdown", 
     "source": [
      "## 3. Classify speakers' names"
     ]
    }, 
    {
     "cell_type": "markdown", 
     "source": [
      "### Function definition"
     ]
    }, 
    {
     "cell_type": "code", 
     "collapsed": true, 
     "input": [
      "def classify(dicOfSpeakers, dicOfNames):", 
      "    maleSpeaker = 0", 
      "    femaleSpeaker = 0", 
      "    notInList = 0", 
      "    for speaker in dicOfSpeakers:", 
      "        if speaker['name'] in dicOfNames['men']:", 
      "            maleSpeaker += 1", 
      "            speaker['gender'] = 4", 
      "        elif speaker['name'] in dicOfNames['women']:", 
      "            femaleSpeaker += 1", 
      "            speaker['gender'] = 3", 
      "        else:", 
      "            if len(speaker['name']) > 0 and speaker['name'][-1] == 'a':", 
      "                femaleSpeaker += 1", 
      "                speaker['gender'] = 3", 
      "            elif len(speaker['name']) > 0 and speaker['name'][-2:] == 'us' or speaker['name'][-2:] == 'er' or speaker['name'][-3:] == 'ert':", 
      "                femaleSpeaker += 1", 
      "                speaker['gender'] = 4", 
      "            else:", 
      "                notInList += 1", 
      "                speaker['gender'] = 5", 
      "    print \"In total, of the \" + str(maleSpeaker + femaleSpeaker + notInList) + \" speakers,\"", 
      "    print (len(\"In total, of the \") + 1) * \" \" + str(femaleSpeaker) + \" were women,\"", 
      "    print (len(\"In total, of the \") + 1) * \" \" + str(maleSpeaker) + \" were men, and\"", 
      "    print (len(\"In total, of the \") + 2) * \" \" + str(notInList) + \" names could not be classified.\"", 
      "    return dicOfSpeakers, femaleSpeaker, maleSpeaker"
     ], 
     "language": "python", 
     "outputs": [], 
     "prompt_number": 9
    }, 
    {
     "cell_type": "markdown", 
     "source": [
      "### Function call"
     ]
    }, 
    {
     "cell_type": "code", 
     "collapsed": true, 
     "input": [
      "with open('speakerNames.json', 'rb') as f:", 
      "    dicOfSpeakers = json.load(f)", 
      "with open('germanNames.json', 'rb') as f:", 
      "    dicOfNames = json.load(f)"
     ], 
     "language": "python", 
     "outputs": [], 
     "prompt_number": 10
    }, 
    {
     "cell_type": "code", 
     "collapsed": false, 
     "input": [
      "classifiedNames = classify(dicOfSpeakers, dicOfNames)"
     ], 
     "language": "python", 
     "outputs": [
      {
       "output_type": "stream", 
       "stream": "stdout", 
       "text": [
        "In total, of the 1153 speakers,", 
        "                  588 were women,", 
        "                  496 were men, and", 
        "                   69 names could not be classified."
       ]
      }
     ], 
     "prompt_number": 11
    }, 
    {
     "cell_type": "code", 
     "collapsed": false, 
     "input": [
      "import collections", 
      "listOfUnclassifiedNames = []", 
      "for e in classifiedNames[0]:", 
      "    if e['gender'] == 5:", 
      "        listOfUnclassifiedNames.append(e['name'])", 
      "countedNames=collections.Counter(listOfUnclassifiedNames)", 
      "print", 
      "print \"These names could not be classified as male or female:\"", 
      "print len(\"These names could not be classified as male or female:\") * \"=\"", 
      "print", 
      "print countedNames"
     ], 
     "language": "python", 
     "outputs": [
      {
       "output_type": "stream", 
       "stream": "stdout", 
       "text": [
        "", 
        "These names could not be classified as male or female:", 
        "======================================================", 
        "", 
        "Counter({u'Najko': 4, u'': 3, u'Dale': 2, u'Andres': 2, u'Nando': 2, u'u.a.': 2, u'Ato': 2, u'Babett': 2, u'Suenje': 2, u'Enne': 1, u'Diane': 1, u'Dehnel': 1, u'Hanke': 1, u'Joerg': 1, u'Sigrun': 1, u'Karolin': 1, u'Deborah': 1, u'Ross': 1, u'Fr\\xe9d\\xe9ric': 1, u'Benno': 1, u'Curtis': 1, u'Christophe': 1, u'Anouar': 1, u'Gerhardt': 1, u'Jorge': 1, u'Haike': 1, u'Oke': 1, u'Kontad': 1, u'S\\xfcnje': 1, u'Isolde': 1, u'Margo': 1, u'Patrice': 1, u'Damiel': 1, u'Siegmund': 1, u'Alexandru': 1, u'Almuth': 1, u'Sibel': 1, u'Nis': 1, u'Urs': 1, u'Sueje': 1, u'Dawn': 1, u'Katy': 1, u'Aline': 1, u'Cornel': 1, u'Sook': 1, u'Jarmo': 1, u'Rachel': 1, u'Catherine': 1, u'Elmar': 1, u'Hardy': 1, u'Ozlem': 1, u'Fedor': 1, u'Pablo': 1, u'Effi': 1, u'Loes': 1, u'Annelen': 1, u'Leonhard': 1})"
       ]
      }
     ], 
     "prompt_number": 14
    }, 
    {
     "cell_type": "markdown", 
     "source": [
      "### Now classifying the names manually", 
      "", 
      "* __male:__ ['Alexandru', 'Andres', 'Anouar', 'Ato', 'Benno', 'Christophe', 'Cornel', 'Curtis', 'Dale', 'Damiel', 'Elmar', 'Enne', 'Fedor', 'Fr\\xe9d\\xe9ric', 'Gerhardt', 'Hanke', 'Hardy', 'Jarmo', 'Joerg', 'Jorge', 'Kontad', 'Leonhard', 'Najko', 'Nando', 'Nis', 'Oke', 'Pablo', 'Patrice', 'Ross', 'Siegmund']", 
      "* __female:__ ['Aline', 'Almuth', 'Annelen', 'Babett', 'Catherine', 'Dawn', 'Deborah', 'Diane', 'Effi', 'Haike', 'Isolde', 'Karolin', 'Katy', 'Loes', 'Margo', 'Ozlem', 'Rachel', 'Sibel', 'Sigrun', 'Sook', 'Sueje', 'Suenje', 'S\\xc3\\xbcnje', 'Urs', '[Regine] Dehnel']", 
      "* __undefined:__ \"\", \"u.a.\"", 
      "", 
      "___That is in total for those names:___", 
      "", 
      "* __male:__ 37", 
      "* __female:__ 27", 
      "* __undefined:__ 5"
     ]
    }, 
    {
     "cell_type": "markdown", 
     "source": [
      "### Summary"
     ]
    }, 
    {
     "cell_type": "code", 
     "collapsed": false, 
     "input": [
      "# updating the values manually", 
      "femaleSpeaker = classifiedNames[1] + 27", 
      "maleSpeaker = classifiedNames[2] + 37", 
      "print ", 
      "print \"In total, of the \" + str(maleSpeaker + femaleSpeaker + 5) + \" speakers,\"", 
      "print (len(\"In total, of the \") + 1) * \" \" + str(femaleSpeaker) + \" were women,\"", 
      "print (len(\"In total, of the \") + 1) * \" \" + str(maleSpeaker) + \" were men, and\"", 
      "print (len(\"In total, of the \") + 3) * \" \" + str(5) + \" names could not be classified.\""
     ], 
     "language": "python", 
     "outputs": [
      {
       "output_type": "stream", 
       "stream": "stdout", 
       "text": [
        "", 
        "In total, of the 1153 speakers,", 
        "                  615 were women,", 
        "                  533 were men, and", 
        "                    5 names could not be classified."
       ]
      }
     ], 
     "prompt_number": 15
    }, 
    {
     "cell_type": "markdown", 
     "source": [
      "## 4. Calculating the numbers for each year"
     ]
    }, 
    {
     "cell_type": "markdown", 
     "source": [
      "### Function definition"
     ]
    }, 
    {
     "cell_type": "code", 
     "collapsed": true, 
     "input": [
      "def calcPerYear(dicOfSpeakers):", 
      "    yearList = [2009, 2010, 2011, 2012, 2013, 2014]", 
      "    summaryList = []", 
      "    for y in yearList:", 
      "        yearDic = {}", 
      "        yearDic['year'] = y", 
      "        female = 0", 
      "        male = 0", 
      "        undefList = []", 
      "        for e in dicOfSpeakers:", 
      "            if e['year'] == y:", 
      "                if e['gender'] == 3:", 
      "                    female += 1", 
      "                elif e['gender'] == 4:", 
      "                    male += 1", 
      "                else:", 
      "                    undefList.append(e['name'])", 
      "            ", 
      "        yearDic['male'] = male", 
      "        yearDic['female'] = female", 
      "        yearDic['undefNames'] = undefList", 
      "        #print yearDic", 
      "        summaryList.append(yearDic)", 
      "    return summaryList", 
      "        "
     ], 
     "language": "python", 
     "outputs": [], 
     "prompt_number": 16
    }, 
    {
     "cell_type": "markdown", 
     "source": [
      "### Function call"
     ]
    }, 
    {
     "cell_type": "code", 
     "collapsed": true, 
     "input": [
      "dicperYear = calcPerYear(classifiedNames[0])"
     ], 
     "language": "python", 
     "outputs": [], 
     "prompt_number": 17
    }, 
    {
     "cell_type": "markdown", 
     "source": [
      "### Updating each year manually"
     ]
    }, 
    {
     "cell_type": "code", 
     "collapsed": false, 
     "input": [
      "for e in dicperYear:", 
      "    print e", 
      "    print"
     ], 
     "language": "python", 
     "outputs": [
      {
       "output_type": "stream", 
       "stream": "stdout", 
       "text": [
        "{'undefNames': [u'Dale', u'Margo', u'Karolin', u'S\\xfcnje', u'Ross', u'Christophe', u'Dale', u'Curtis', u'Ato', u'Effi', u'Nando', u'Nando'], 'male': 77, 'female': 79, 'year': 2009}", 
        "", 
        "{'undefNames': [u'Jorge', u'Suenje', u'Siegmund', u'Almuth', u'Deborah', u'Najko', u'Patrice', u'Annelen'], 'male': 63, 'female': 61, 'year': 2010}", 
        "", 
        "{'undefNames': [u'u.a.', u'u.a.', u'Anouar', u'Sueje', u'', u'Leonhard', u'Sibel', u'Kontad', u'Hardy', u''], 'male': 82, 'female': 85, 'year': 2011}", 
        "", 
        "{'undefNames': [u'Fedor', u'Suenje', u'Cornel', u'Isolde', u'Babett', u'Benno', u'Najko', u'Sook', u'Ato', u'Urs', u'Jarmo', u''], 'male': 73, 'female': 97, 'year': 2012}", 
        "", 
        "{'undefNames': [u'Ozlem', u'Katy', u'Fr\\xe9d\\xe9ric', u'Alexandru', u'Loes', u'Dawn', u'Gerhardt', u'Andres', u'Nis', u'Oke'], 'male': 94, 'female': 102, 'year': 2013}", 
        "", 
        "{'undefNames': [u'Catherine', u'Diane', u'Pablo', u'Rachel', u'Elmar', u'Joerg', u'Babett', u'Andres', u'Najko', u'Najko', u'Aline', u'Haike', u'Sigrun', u'Dehnel', u'Damiel', u'Enne', u'Hanke'], 'male': 118, 'female': 153, 'year': 2014}", 
        ""
       ]
      }
     ], 
     "prompt_number": 18
    }, 
    {
     "cell_type": "code", 
     "collapsed": true, 
     "input": [
      "# 2009", 
      "# male 8, female 4", 
      "dicperYear[0]['undef'] = 0", 
      "dicperYear[0]['male'] = dicperYear[0]['male'] + 8", 
      "dicperYear[0]['female'] = dicperYear[0]['female'] + 4", 
      "", 
      "#2010", 
      "# male 3, female 5", 
      "dicperYear[1]['undef'] = 0", 
      "dicperYear[1]['male'] = dicperYear[1]['male'] + 3", 
      "dicperYear[1]['female'] = dicperYear[1]['female'] + 5", 
      "", 
      "#2011", 
      "# male 4, female 2, undef 4", 
      "dicperYear[2]['undef'] = 4", 
      "dicperYear[2]['male'] = dicperYear[2]['male'] + 4", 
      "dicperYear[2]['female'] = dicperYear[2]['female'] + 2", 
      "", 
      "#2012", 
      "# male 6, female 5, undef 1", 
      "dicperYear[3]['undef'] = 1", 
      "dicperYear[3]['male'] = dicperYear[3]['male'] + 6", 
      "dicperYear[3]['female'] = dicperYear[3]['female'] + 5", 
      "", 
      "#2013", 
      "# male 6, female 4", 
      "dicperYear[4]['undef'] = 0", 
      "dicperYear[4]['male'] = dicperYear[4]['male'] + 6", 
      "dicperYear[4]['female'] = dicperYear[4]['female'] + 4", 
      "", 
      "#2014", 
      "# male 9, female 8", 
      "dicperYear[5]['undef'] = 0", 
      "dicperYear[5]['male'] = dicperYear[5]['male'] + 9", 
      "dicperYear[5]['female'] = dicperYear[5]['female'] + 8"
     ], 
     "language": "python", 
     "outputs": [], 
     "prompt_number": 19
    }, 
    {
     "cell_type": "code", 
     "collapsed": true, 
     "input": [
      "#save as a json-file", 
      "with open('summary.json', 'wb') as outfile:", 
      "    json.dump(dicperYear, outfile)"
     ], 
     "language": "python", 
     "outputs": [], 
     "prompt_number": 20
    }, 
    {
     "cell_type": "markdown", 
     "source": [
      "## 5. Summary"
     ]
    }, 
    {
     "cell_type": "code", 
     "collapsed": false, 
     "input": [
      "newList = []", 
      "for e in dicperYear:", 
      "    c = e.copy()", 
      "    del c['undefNames']", 
      "    newList.append(c)", 
      "import pprint", 
      "pprint.pprint(newList)"
     ], 
     "language": "python", 
     "outputs": [
      {
       "output_type": "stream", 
       "stream": "stdout", 
       "text": [
        "[{'female': 83, 'male': 85, 'undef': 0, 'year': 2009},", 
        " {'female': 66, 'male': 66, 'undef': 0, 'year': 2010},", 
        " {'female': 87, 'male': 86, 'undef': 4, 'year': 2011},", 
        " {'female': 102, 'male': 79, 'undef': 1, 'year': 2012},", 
        " {'female': 106, 'male': 100, 'undef': 0, 'year': 2013},", 
        " {'female': 161, 'male': 127, 'undef': 0, 'year': 2014}]"
       ]
      }
     ], 
     "prompt_number": 21
    }, 
    {
     "cell_type": "code", 
     "collapsed": true, 
     "input": [], 
     "language": "python", 
     "outputs": []
    }
   ]
  }
 ]
}